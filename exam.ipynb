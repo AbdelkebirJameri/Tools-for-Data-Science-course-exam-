{
 "cells": [
  {
   "cell_type": "markdown",
   "id": "424294f2",
   "metadata": {},
   "source": [
    "#  My Jupyter Notebook on IBM Watson Studio"
   ]
  },
  {
   "cell_type": "markdown",
   "id": "b8f23aa8",
   "metadata": {},
   "source": [
    "**Abdelkebir Jameri** "
   ]
  },
  {
   "cell_type": "markdown",
   "id": "1d5c089b",
   "metadata": {},
   "source": [
    "data science engineering student"
   ]
  },
  {
   "cell_type": "markdown",
   "id": "29f8b4a2",
   "metadata": {},
   "source": [
    "*I'm interested of data science because I'm a student of data science engineering and I wanna learn about it more and more .*"
   ]
  },
  {
   "cell_type": "markdown",
   "id": "850340a1",
   "metadata": {},
   "source": [
    "### I'll write a function whitch print my name and my age"
   ]
  },
  {
   "cell_type": "code",
   "execution_count": 10,
   "id": "6a60dd70",
   "metadata": {},
   "outputs": [],
   "source": [
    "def name_age(name,age):\n",
    "    return f\"my name is : {name} and my age is {age} years of \"\n",
    "\n",
    "    "
   ]
  },
  {
   "cell_type": "code",
   "execution_count": 11,
   "id": "ea6ad6e9",
   "metadata": {},
   "outputs": [
    {
     "data": {
      "text/plain": [
       "'my name is : Abdelkebir and my age is 23 years of '"
      ]
     },
     "execution_count": 11,
     "metadata": {},
     "output_type": "execute_result"
    }
   ],
   "source": [
    "name_age(\"Abdelkebir\",23)"
   ]
  },
  {
   "cell_type": "markdown",
   "id": "cd057a35",
   "metadata": {},
   "source": [
    "![alt text](https://qph.cf2.quoracdn.net/main-qimg-93b60fd5cf9888c96a1e02622806d561  \"corsera logo\")"
   ]
  },
  {
   "cell_type": "markdown",
   "id": "5e1afe7e",
   "metadata": {},
   "source": [
    "---"
   ]
  },
  {
   "cell_type": "markdown",
   "id": "1bf0cdff",
   "metadata": {},
   "source": [
    "---"
   ]
  },
  {
   "cell_type": "markdown",
   "id": "6ef8fc04",
   "metadata": {},
   "source": [
    "we are learning  `data sience` using  `jyputer` ."
   ]
  },
  {
   "cell_type": "code",
   "execution_count": null,
   "id": "d10074b1",
   "metadata": {},
   "outputs": [],
   "source": []
  }
 ],
 "metadata": {
  "kernelspec": {
   "display_name": "Python 3 (ipykernel)",
   "language": "python",
   "name": "python3"
  },
  "language_info": {
   "codemirror_mode": {
    "name": "ipython",
    "version": 3
   },
   "file_extension": ".py",
   "mimetype": "text/x-python",
   "name": "python",
   "nbconvert_exporter": "python",
   "pygments_lexer": "ipython3",
   "version": "3.9.12"
  }
 },
 "nbformat": 4,
 "nbformat_minor": 5
}
